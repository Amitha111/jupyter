{
 "cells": [
  {
   "cell_type": "code",
   "execution_count": 1,
   "id": "8b55abc3",
   "metadata": {},
   "outputs": [
    {
     "name": "stdout",
     "output_type": "stream",
     "text": [
      "[[ 5 10 15 20]\n",
      " [25 30 35 40]\n",
      " [45 50 55 60]]\n"
     ]
    }
   ],
   "source": [
    "import numpy as np\n",
    "\n",
    "flowers = np.array([[5, 10, 15, 20], [25, 30, 35, 40], [45, 50, 55, 60]])\n",
    "print(flowers)"
   ]
  },
  {
   "cell_type": "code",
   "execution_count": 16,
   "id": "cf1a4d2a",
   "metadata": {},
   "outputs": [
    {
     "data": {
      "text/plain": [
       "55"
      ]
     },
     "execution_count": 16,
     "metadata": {},
     "output_type": "execute_result"
    }
   ],
   "source": [
    "import numpy as np\n",
    "\n",
    "flowers1 = np.array([[5, 10, 15, 20], [25, 30, 35, 40], [45, 50, 55, 60]])\n",
    "flowers1[2][2]"
   ]
  },
  {
   "cell_type": "code",
   "execution_count": 26,
   "id": "9dad9a94",
   "metadata": {},
   "outputs": [
    {
     "data": {
      "text/plain": [
       "array([[25, 30, 35, 40],\n",
       "       [45, 50, 55, 60]])"
      ]
     },
     "execution_count": 26,
     "metadata": {},
     "output_type": "execute_result"
    }
   ],
   "source": [
    "# here is selected last two lists in a 3d array\n",
    "import numpy as np\n",
    "flowers2 = np.array([[5, 10, 15, 20], [25, 30, 35, 40], [45, 50, 55, 60]])\n",
    "flowers2[1 : 3]"
   ]
  },
  {
   "cell_type": "code",
   "execution_count": 29,
   "id": "563edff7",
   "metadata": {},
   "outputs": [
    {
     "data": {
      "text/plain": [
       "array([20, 40, 60])"
      ]
     },
     "execution_count": 29,
     "metadata": {},
     "output_type": "execute_result"
    }
   ],
   "source": [
    "# select a particular colum in a 3d array. Here \" :4 \"is a column which i want is select and 3 is the lists which this includes\n",
    "#note the \":\" this comes before the column you have selected and then mention the list's that is 3\n",
    "import numpy as np\n",
    "flowers3 = np.array([[5, 10, 15, 20], [25, 30, 35, 40], [45, 50, 55, 60]])\n",
    "flowers3[:4, 3]"
   ]
  },
  {
   "cell_type": "code",
   "execution_count": 41,
   "id": "f4262439",
   "metadata": {},
   "outputs": [
    {
     "name": "stdout",
     "output_type": "stream",
     "text": [
      "[[ 5 10 15 20]\n",
      " [25 30 35 40]\n",
      " [45 50 55 60]]\n",
      "[ 5 10 15 20 25 30 35 40 45 50 55 60]\n"
     ]
    }
   ],
   "source": [
    "# boolean indexing\n",
    "# the answer here shows the places of the numbers which get divisible by 5\n",
    "import numpy as np\n",
    "flowers4 = np.array([[5, 10, 15, 20], [25, 30, 35, 40], [45, 50, 55, 60]])\n",
    "print(flowers4)\n",
    "x  = flowers4[flowers4 % 5 == 0]\n",
    "# x = np.where(flowers4 % 5 == 0)\n",
    "print(x)\n"
   ]
  },
  {
   "cell_type": "code",
   "execution_count": 36,
   "id": "af94fab9",
   "metadata": {},
   "outputs": [
    {
     "name": "stdout",
     "output_type": "stream",
     "text": [
      "[ 2  4  6  8 10 12 14 16 18 20 22 24 26 28 30 32 34 36 38 40 42 44 46 48]\n"
     ]
    }
   ],
   "source": [
    "# finding even numbers\n",
    "import numpy as np\n",
    "a = np.arange(1, 50)\n",
    "a = a[a%2==0]\n",
    "print(a)"
   ]
  },
  {
   "cell_type": "code",
   "execution_count": 38,
   "id": "1b51d7b1",
   "metadata": {},
   "outputs": [
    {
     "name": "stdout",
     "output_type": "stream",
     "text": [
      "[ 5 10 15 20 25 30 35 40 45 50 55]\n"
     ]
    }
   ],
   "source": [
    "# finding numbers less than a given value\n",
    "\n",
    "import numpy as np\n",
    "flowers5 = np.array([[5, 10, 15, 20], [25, 30, 35, 40], [45, 50, 55, 60]])\n",
    "more = flowers5[flowers5 <= 55]\n",
    "print(more)"
   ]
  },
  {
   "cell_type": "code",
   "execution_count": 40,
   "id": "d5c10294",
   "metadata": {},
   "outputs": [
    {
     "data": {
      "text/plain": [
       "array([50, 55, 60])"
      ]
     },
     "execution_count": 40,
     "metadata": {},
     "output_type": "execute_result"
    }
   ],
   "source": [
    "#using ~ (it tries to do things opposite)\n",
    "\n",
    "import numpy as np\n",
    "flowers6 = np.array([[5, 10, 15, 20], [25, 30, 35, 40], [45, 50, 55, 60]])\n",
    "new = flowers6 < 50\n",
    "flowers6[~new]"
   ]
  },
  {
   "cell_type": "code",
   "execution_count": 48,
   "id": "4c9df782",
   "metadata": {},
   "outputs": [
    {
     "ename": "SyntaxError",
     "evalue": "invalid syntax (<ipython-input-48-515620e2f403>, line 7)",
     "output_type": "error",
     "traceback": [
      "\u001b[1;36m  File \u001b[1;32m\"<ipython-input-48-515620e2f403>\"\u001b[1;36m, line \u001b[1;32m7\u001b[0m\n\u001b[1;33m    if z = true = 0\u001b[0m\n\u001b[1;37m         ^\u001b[0m\n\u001b[1;31mSyntaxError\u001b[0m\u001b[1;31m:\u001b[0m invalid syntax\n"
     ]
    }
   ],
   "source": [
    "# replacing the numbers in an provided if they satisfy given condition\n",
    "\n",
    "import numpy as np\n",
    "flowers7 = np.array([[5, 10, 15, 20], [25, 30, 35, 40], [45, 50, 55, 60]])\n",
    "z  = flowers7 % 3 == 0\n",
    "print(z)\n",
    "\n",
    "print(flowers7)"
   ]
  },
  {
   "cell_type": "code",
   "execution_count": 62,
   "id": "42740623",
   "metadata": {},
   "outputs": [
    {
     "name": "stdout",
     "output_type": "stream",
     "text": [
      "['running' 'hiking']\n"
     ]
    }
   ],
   "source": [
    "import numpy as np\n",
    "exercises = np.array([\"running\", \"gymnastics\", \"basketball\", \"weights\",\"hiking\"])\n",
    "locations = np.array([\"outside\", \"inside\", \"inside\", \"inside\", \"outside\"])\n",
    "minutes = np.array([30, 45, 45, 30, 60])\n",
    "\n",
    "a = exercises[locations == \"outside\"]\n",
    "print(a)\n",
    "\n",
    "\n",
    "\n"
   ]
  },
  {
   "cell_type": "code",
   "execution_count": 64,
   "id": "3f938e89",
   "metadata": {},
   "outputs": [
    {
     "name": "stdout",
     "output_type": "stream",
     "text": [
      "[]\n"
     ]
    }
   ],
   "source": [
    "import numpy as np\n",
    "exercises = np.array([\"running\", \"gymnastics\", \"basketball\", \"weights\",\"hiking\"])\n",
    "locations = np.array([\"outside\", \"inside\", \"inside\", \"inside\", \"outside\"])\n",
    "minutes = np.array([30, 45, 45, 30, 60])\n",
    "\n",
    "b = exercises[(locations == \"outside\") & (minutes < 30)]\n",
    "print(b)"
   ]
  },
  {
   "cell_type": "code",
   "execution_count": 67,
   "id": "66695ed0",
   "metadata": {},
   "outputs": [
    {
     "name": "stdout",
     "output_type": "stream",
     "text": [
      "[45]\n"
     ]
    }
   ],
   "source": [
    "import numpy as np\n",
    "exercises = np.array([\"running\", \"gymnastics\", \"basketball\", \"weights\",\"hiking\"])\n",
    "locations = np.array([\"outside\", \"inside\", \"inside\", \"inside\", \"outside\"])\n",
    "minutes = np.array([30, 45, 45, 30, 60])\n",
    "\n",
    "c = minutes[exercises == \"basketball\"]\n",
    "print(c)"
   ]
  },
  {
   "cell_type": "code",
   "execution_count": 68,
   "id": "49ed26cb",
   "metadata": {},
   "outputs": [
    {
     "name": "stdout",
     "output_type": "stream",
     "text": [
      "['gymnastics' 'basketball']\n"
     ]
    }
   ],
   "source": [
    "import numpy as np\n",
    "exercises = np.array([\"running\", \"gymnastics\", \"basketball\", \"weights\",\"hiking\"])\n",
    "locations = np.array([\"outside\", \"inside\", \"inside\", \"inside\", \"outside\"])\n",
    "minutes = np.array([30, 45, 45, 30, 60])\n",
    "\n",
    "d = exercises[minutes == 45]\n",
    "print(d)"
   ]
  },
  {
   "cell_type": "code",
   "execution_count": 70,
   "id": "57545488",
   "metadata": {},
   "outputs": [
    {
     "name": "stdout",
     "output_type": "stream",
     "text": [
      "[]\n"
     ]
    }
   ],
   "source": [
    "import numpy as np\n",
    "exercises = np.array([\"running\", \"gymnastics\", \"basketball\", \"weights\",\"hiking\"])\n",
    "locations = np.array([\"outside\", \"inside\", \"inside\", \"inside\", \"outside\"])\n",
    "minutes = np.array([30, 45, 45, 30, 60])\n",
    "\n",
    "e = exercises[minutes < 30]\n",
    "print(e)"
   ]
  },
  {
   "cell_type": "code",
   "execution_count": 74,
   "id": "36f977b1",
   "metadata": {},
   "outputs": [
    {
     "name": "stdout",
     "output_type": "stream",
     "text": [
      "['gymnastics' 'basketball']\n"
     ]
    }
   ],
   "source": [
    "import numpy as np\n",
    "exercises = np.array([\"running\", \"gymnastics\", \"basketball\", \"weights\",\"hiking\"])\n",
    "locations = np.array([\"outside\", \"inside\", \"inside\", \"inside\", \"outside\"])\n",
    "minutes = np.array([30, 45, 45, 30, 60])\n",
    "\n",
    "f = exercises[(locations == \"inside\") & (minutes == 45)]\n",
    "print(f)"
   ]
  },
  {
   "cell_type": "code",
   "execution_count": 77,
   "id": "f2b5615d",
   "metadata": {},
   "outputs": [
    {
     "name": "stdout",
     "output_type": "stream",
     "text": [
      "['hiking']\n"
     ]
    }
   ],
   "source": [
    "import numpy as np\n",
    "exercises = np.array([\"running\", \"gymnastics\", \"basketball\", \"weights\",\"hiking\"])\n",
    "locations = np.array([\"outside\", \"inside\", \"inside\", \"inside\", \"outside\"])\n",
    "minutes = np.array([30, 45, 45, 30, 60])\n",
    "\n",
    "g = exercises[minutes >= 60 ]\n",
    "print(g)"
   ]
  },
  {
   "cell_type": "code",
   "execution_count": 78,
   "id": "cfaf1783",
   "metadata": {},
   "outputs": [
    {
     "name": "stdout",
     "output_type": "stream",
     "text": [
      "(array([1, 2, 3, 7], dtype=int64),)\n"
     ]
    }
   ],
   "source": [
    "# where any clause\n",
    "import numpy as np\n",
    "\n",
    "rents = np.array([1250, 800, 750, 775, 1100, 1150, 1250, 750])\n",
    "low_rent = np.where(rents < 1000)\n",
    "print(low_rent)\n"
   ]
  },
  {
   "cell_type": "code",
   "execution_count": 84,
   "id": "9ef93840",
   "metadata": {},
   "outputs": [
    {
     "name": "stdout",
     "output_type": "stream",
     "text": [
      "True\n"
     ]
    }
   ],
   "source": [
    "# Any clause its \n",
    "import numpy as np\n",
    "\n",
    "rents = np.array([1250, 800, 750, 775, 1100, 1150, 1250, 750])\n",
    "check = np.any(rents == 1250, axis = 0)\n",
    "print(check)\n",
    "\n"
   ]
  },
  {
   "cell_type": "code",
   "execution_count": 85,
   "id": "ac08f713",
   "metadata": {},
   "outputs": [
    {
     "name": "stdout",
     "output_type": "stream",
     "text": [
      "True\n"
     ]
    }
   ],
   "source": [
    "# All clause\n",
    "import numpy as np\n",
    "\n",
    "rents = np.array([1250, 800, 750, 775, 1100, 1150, 1250, 750])\n",
    "what_we_got = np.all(rents > 500, axis = 0)\n",
    "print(what_we_got)"
   ]
  },
  {
   "cell_type": "code",
   "execution_count": 86,
   "id": "dcd9806d",
   "metadata": {},
   "outputs": [
    {
     "name": "stdout",
     "output_type": "stream",
     "text": [
      "[73 52  6  0]\n"
     ]
    }
   ],
   "source": [
    "#Fancy index\n",
    "\n",
    "import numpy as np\n",
    "x = np.array([9, 0, 95, 84, 65, 52, 44, 73, 6, 20])\n",
    "inx = [7, 5, 8, 1]\n",
    "print(x[inx])"
   ]
  },
  {
   "cell_type": "code",
   "execution_count": null,
   "id": "9e77feae",
   "metadata": {},
   "outputs": [],
   "source": []
  }
 ],
 "metadata": {
  "kernelspec": {
   "display_name": "Python 3",
   "language": "python",
   "name": "python3"
  },
  "language_info": {
   "codemirror_mode": {
    "name": "ipython",
    "version": 3
   },
   "file_extension": ".py",
   "mimetype": "text/x-python",
   "name": "python",
   "nbconvert_exporter": "python",
   "pygments_lexer": "ipython3",
   "version": "3.9.4"
  }
 },
 "nbformat": 4,
 "nbformat_minor": 5
}
